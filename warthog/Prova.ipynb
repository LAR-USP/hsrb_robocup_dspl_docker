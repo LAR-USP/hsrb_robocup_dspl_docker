{
 "cells": [
  {
   "cell_type": "markdown",
   "metadata": {},
   "source": [
    "### Inicialização"
   ]
  },
  {
   "cell_type": "code",
   "execution_count": null,
   "metadata": {},
   "outputs": [],
   "source": [
    "!pip install \"requests[security]\""
   ]
  },
  {
   "cell_type": "code",
   "execution_count": 2,
   "metadata": {},
   "outputs": [],
   "source": [
    "%matplotlib inline\n",
    "import matplotlib.pyplot as plt\n",
    "import rospy\n",
    "import tf\n",
    "from utils import *\n",
    "import numpy as np\n",
    "import requests\n",
    "import base64\n",
    "import ast\n",
    "\n",
    "rospy.init_node(\"recognition\")\n",
    "rgbd = RGBD()\n",
    "\n",
    "locations = {\n",
    "    'start' : [0,0,0],\n",
    "    'mesinha': [0.05, 1.11, 90],\n",
    "    'mesonaA': [1.57, 0.2, -90],\n",
    "    'mesonaB': [1.2, 0.98, 90],\n",
    "    'prateleira': [2.25, 4.0, 90],\n",
    "    'prateleira_pickup': [2.25, 4.15, 90],\n",
    "    'delivery_area': [0.643, 3.527, 180],\n",
    "    'pessoa_esquerda': [0.547, 2.892, 180],\n",
    "    'pessoa_direita': [0.547, 3.851, 180]\n",
    "}\n",
    "\n",
    "def move_to_location(loc):\n",
    "    move_arm_init()\n",
    "    move_head_tilt(0)\n",
    "    x, y, yaw = locations[loc]\n",
    "    move_base_goal(x, y, yaw)\n",
    "\n",
    "def request_classification(img):\n",
    "    url = 'http://172.19.0.1:5000/detect_objs'\n",
    "    myobj = {\n",
    "        \"img\":str(base64.b64encode(img.ravel(), 'utf-8')),\n",
    "        \"h\": img.shape[0],\n",
    "        \"w\": img.shape[1],    \n",
    "        \"c\": img.shape[2]\n",
    "    }\n",
    "    return ast.literal_eval(requests.post(url, json= myobj).text)\n",
    "\n",
    "def imgcoords2world(x, y, rgbd_obj):\n",
    "    img = rgbd_obj.get_image()\n",
    "    points_data = rgbd_obj._points_data\n",
    "    xw = points_data['x'][y, x]\n",
    "    yw = points_data['y'][y, x]\n",
    "    zw = points_data['z'][y, x]\n",
    "    return (xw, yw, zw)\n",
    "\n",
    "def get_centroid(top_left, bottom_right):\n",
    "    c_x = top_left[0] + (bottom_right[0] - top_left[0])/2\n",
    "    c_y = top_left[1] + (bottom_right[1] - top_left[1])/2\n",
    "    return (int(c_x), int(c_y))\n",
    "\n",
    "class ObjectTracker():\n",
    "    def __init__(self):\n",
    "        self._br = tf.TransformBroadcaster()\n",
    "        # ポイントクラウドのサブスクライバのコールバックに_cloud_cbメソッドを登録\n",
    "        self._cloud_sub = rospy.Subscriber(\n",
    "            \"/hsrb/head_rgbd_sensor/depth_registered/rectified_points\",\n",
    "            PointCloud2, self._cloud_cb)\n",
    "        self._frame_name = \"objeto\"\n",
    "        self.x = 0\n",
    "        self.y = 0\n",
    "        self.z = 0\n",
    "        \n",
    "    def set_obj_coords(self, x, y, z):\n",
    "        self.x = x\n",
    "        self.y = y\n",
    "        self.z = z\n",
    "\n",
    "    def _cloud_cb(self, msg):\n",
    "        self._points_data = ros_numpy.numpify(msg)            \n",
    "\n",
    "        self._br.sendTransform(\n",
    "            (x, y, z), tf.transformations.quaternion_from_euler(0, 0, 0),\n",
    "            rospy.Time(msg.header.stamp.secs, msg.header.stamp.nsecs),\n",
    "            self._frame_name,\n",
    "            msg.header.frame_id)"
   ]
  },
  {
   "cell_type": "markdown",
   "metadata": {},
   "source": [
    "### Comunicação com servidor"
   ]
  },
  {
   "cell_type": "code",
   "execution_count": 1,
   "metadata": {},
   "outputs": [
    {
     "name": "stdout",
     "output_type": "stream",
     "text": [
      "PING host.docker.internal (172.17.0.1) 56(84) bytes of data.\n",
      "64 bytes from host.docker.internal (172.17.0.1): icmp_seq=1 ttl=64 time=0.036 ms\n",
      "64 bytes from host.docker.internal (172.17.0.1): icmp_seq=2 ttl=64 time=0.045 ms\n",
      "64 bytes from host.docker.internal (172.17.0.1): icmp_seq=3 ttl=64 time=0.033 ms\n",
      "64 bytes from host.docker.internal (172.17.0.1): icmp_seq=4 ttl=64 time=0.031 ms\n",
      "64 bytes from host.docker.internal (172.17.0.1): icmp_seq=5 ttl=64 time=0.034 ms\n",
      "64 bytes from host.docker.internal (172.17.0.1): icmp_seq=6 ttl=64 time=0.067 ms\n",
      "64 bytes from host.docker.internal (172.17.0.1): icmp_seq=7 ttl=64 time=0.042 ms\n",
      "64 bytes from host.docker.internal (172.17.0.1): icmp_seq=8 ttl=64 time=0.035 ms\n",
      "64 bytes from host.docker.internal (172.17.0.1): icmp_seq=9 ttl=64 time=0.032 ms\n",
      "^C\n",
      "\n",
      "--- host.docker.internal ping statistics ---\n",
      "9 packets transmitted, 9 received, 0% packet loss, time 8096ms\n",
      "rtt min/avg/max/mdev = 0.031/0.039/0.067/0.012 ms\n"
     ]
    }
   ],
   "source": [
    "!ping host.docker.internal"
   ]
  },
  {
   "cell_type": "code",
   "execution_count": 1,
   "metadata": {
    "scrolled": true
   },
   "outputs": [
    {
     "name": "stdout",
     "output_type": "stream",
     "text": [
      "PING 172.19.0.1 (172.19.0.1) 56(84) bytes of data.\n",
      "64 bytes from 172.19.0.1: icmp_seq=1 ttl=64 time=0.038 ms\n",
      "64 bytes from 172.19.0.1: icmp_seq=2 ttl=64 time=0.029 ms\n",
      "64 bytes from 172.19.0.1: icmp_seq=3 ttl=64 time=0.033 ms\n",
      "64 bytes from 172.19.0.1: icmp_seq=4 ttl=64 time=0.029 ms\n",
      "64 bytes from 172.19.0.1: icmp_seq=5 ttl=64 time=0.043 ms\n",
      "^C\n",
      "\n",
      "--- 172.19.0.1 ping statistics ---\n",
      "5 packets transmitted, 5 received, 0% packet loss, time 4062ms\n",
      "rtt min/avg/max/mdev = 0.029/0.034/0.043/0.007 ms\n"
     ]
    }
   ],
   "source": [
    "!ping 172.19.0.1"
   ]
  },
  {
   "cell_type": "code",
   "execution_count": 2,
   "metadata": {
    "scrolled": true
   },
   "outputs": [
    {
     "name": "stdout",
     "output_type": "stream",
     "text": [
      "Kernel IP routing table\r\n",
      "Destination     Gateway         Genmask         Flags Metric Ref    Use Iface\r\n",
      "default         172.19.0.1      0.0.0.0         UG    0      0        0 eth0\r\n",
      "172.19.0.0      0.0.0.0         255.255.0.0     U     0      0        0 eth0\r\n"
     ]
    }
   ],
   "source": [
    "!route"
   ]
  },
  {
   "cell_type": "code",
   "execution_count": 1,
   "metadata": {},
   "outputs": [
    {
     "name": "stdout",
     "output_type": "stream",
     "text": [
      "\u001b[33mDEPRECATION: Python 2.7 reached the end of its life on January 1st, 2020. Please upgrade your Python as Python 2.7 is no longer maintained. pip 21.0 will drop support for Python 2.7 in January 2021. More details about Python 2 support in pip can be found at https://pip.pypa.io/en/latest/development/release-process/#python-2-support pip 21.0 will remove support for this functionality.\u001b[0m\n",
      "Defaulting to user installation because normal site-packages is not writeable\n",
      "Collecting requests[security]\n",
      "  Downloading requests-2.26.0-py2.py3-none-any.whl (62 kB)\n",
      "\u001b[K     |████████████████████████████████| 62 kB 1.2 MB/s eta 0:00:01\n",
      "\u001b[?25hCollecting certifi>=2017.4.17\n",
      "  Downloading certifi-2021.10.8-py2.py3-none-any.whl (149 kB)\n",
      "\u001b[K     |████████████████████████████████| 149 kB 2.7 MB/s eta 0:00:01\n",
      "\u001b[?25hCollecting urllib3<1.27,>=1.21.1\n",
      "  Downloading urllib3-1.26.7-py2.py3-none-any.whl (138 kB)\n",
      "\u001b[K     |████████████████████████████████| 138 kB 2.7 MB/s eta 0:00:01\n",
      "\u001b[?25hRequirement already satisfied: chardet<5,>=3.0.2; python_version < \"3\" in /usr/lib/python2.7/dist-packages (from requests[security]) (3.0.4)\n",
      "Requirement already satisfied: idna<3,>=2.5; python_version < \"3\" in /usr/lib/python2.7/dist-packages (from requests[security]) (2.6)\n",
      "Installing collected packages: certifi, urllib3, requests\n",
      "Successfully installed certifi-2021.10.8 requests-2.26.0 urllib3-1.26.7\n"
     ]
    }
   ],
   "source": [
    "# !pip install requests\n",
    "!pip install \"requests[security]\""
   ]
  },
  {
   "cell_type": "code",
   "execution_count": 10,
   "metadata": {},
   "outputs": [
    {
     "name": "stdout",
     "output_type": "stream",
     "text": [
      "<!DOCTYPE HTML PUBLIC \"-//W3C//DTD HTML 4.01 Transitional//EN\"\n",
      "  \"http://www.w3.org/TR/html4/loose.dtd\">\n",
      "<html>\n",
      "  <head>\n",
      "    <title>KeyError: &#x27;img&#x27; // Werkzeug Debugger</title>\n",
      "    <link rel=\"stylesheet\" href=\"?__debugger__=yes&amp;cmd=resource&amp;f=style.css\"\n",
      "        type=\"text/css\">\n",
      "    <!-- We need to make sure this has a favicon so that the debugger does\n",
      "         not accidentally trigger a request to /favicon.ico which might\n",
      "         change the application's state. -->\n",
      "    <link rel=\"shortcut icon\"\n",
      "        href=\"?__debugger__=yes&amp;cmd=resource&amp;f=console.png\">\n",
      "    <script src=\"?__debugger__=yes&amp;cmd=resource&amp;f=debugger.js\"></script>\n",
      "    <script type=\"text/javascript\">\n",
      "      var TRACEBACK = 140153817764816,\n",
      "          CONSOLE_MODE = false,\n",
      "          EVALEX = true,\n",
      "          EVALEX_TRUSTED = false,\n",
      "          SECRET = \"U6LLe12GxxoQV7a38GN6\";\n",
      "    </script>\n",
      "  </head>\n",
      "  <body style=\"background-color: #fff\">\n",
      "    <div class=\"debugger\">\n",
      "<h1>KeyError</h1>\n",
      "<div class=\"detail\">\n",
      "  <p class=\"errormsg\">KeyError: &#x27;img&#x27;</p>\n",
      "</div>\n",
      "<h2 class=\"traceback\">Traceback <em>(most recent call last)</em></h2>\n",
      "<div class=\"traceback\">\n",
      "  <h3></h3>\n",
      "  <ul><li><div class=\"frame\" id=\"frame-140153817763952\">\n",
      "  <h4>File <cite class=\"filename\">\"/home/padula/Projects/Home2021/venv/lib/python3.8/site-packages/flask/app.py\"</cite>,\n",
      "      line <em class=\"line\">2091</em>,\n",
      "      in <code class=\"function\">__call__</code></h4>\n",
      "  <div class=\"source library\"><pre class=\"line before\"><span class=\"ws\">    </span>def __call__(self, environ: dict, start_response: t.Callable) -&gt; t.Any:</pre>\n",
      "<pre class=\"line before\"><span class=\"ws\">        </span>&quot;&quot;&quot;The WSGI server calls the Flask application object as the</pre>\n",
      "<pre class=\"line before\"><span class=\"ws\">        </span>WSGI application. This calls :meth:`wsgi_app`, which can be</pre>\n",
      "<pre class=\"line before\"><span class=\"ws\">        </span>wrapped to apply middleware.</pre>\n",
      "<pre class=\"line before\"><span class=\"ws\">        </span>&quot;&quot;&quot;</pre>\n",
      "<pre class=\"line current\"><span class=\"ws\">        </span>return self.wsgi_app(environ, start_response)</pre></div>\n",
      "</div>\n",
      "\n",
      "<li><div class=\"frame\" id=\"frame-140153817764240\">\n",
      "  <h4>File <cite class=\"filename\">\"/home/padula/Projects/Home2021/venv/lib/python3.8/site-packages/flask/app.py\"</cite>,\n",
      "      line <em class=\"line\">2076</em>,\n",
      "      in <code class=\"function\">wsgi_app</code></h4>\n",
      "  <div class=\"source library\"><pre class=\"line before\"><span class=\"ws\">            </span>try:</pre>\n",
      "<pre class=\"line before\"><span class=\"ws\">                </span>ctx.push()</pre>\n",
      "<pre class=\"line before\"><span class=\"ws\">                </span>response = self.full_dispatch_request()</pre>\n",
      "<pre class=\"line before\"><span class=\"ws\">            </span>except Exception as e:</pre>\n",
      "<pre class=\"line before\"><span class=\"ws\">                </span>error = e</pre>\n",
      "<pre class=\"line current\"><span class=\"ws\">                </span>response = self.handle_exception(e)</pre>\n",
      "<pre class=\"line after\"><span class=\"ws\">            </span>except:  # noqa: B001</pre>\n",
      "<pre class=\"line after\"><span class=\"ws\">                </span>error = sys.exc_info()[1]</pre>\n",
      "<pre class=\"line after\"><span class=\"ws\">                </span>raise</pre>\n",
      "<pre class=\"line after\"><span class=\"ws\">            </span>return response(environ, start_response)</pre>\n",
      "<pre class=\"line after\"><span class=\"ws\">        </span>finally:</pre></div>\n",
      "</div>\n",
      "\n",
      "<li><div class=\"frame\" id=\"frame-140153817764384\">\n",
      "  <h4>File <cite class=\"filename\">\"/home/padula/Projects/Home2021/venv/lib/python3.8/site-packages/flask/app.py\"</cite>,\n",
      "      line <em class=\"line\">2073</em>,\n",
      "      in <code class=\"function\">wsgi_app</code></h4>\n",
      "  <div class=\"source library\"><pre class=\"line before\"><span class=\"ws\">        </span>ctx = self.request_context(environ)</pre>\n",
      "<pre class=\"line before\"><span class=\"ws\">        </span>error: t.Optional[BaseException] = None</pre>\n",
      "<pre class=\"line before\"><span class=\"ws\">        </span>try:</pre>\n",
      "<pre class=\"line before\"><span class=\"ws\">            </span>try:</pre>\n",
      "<pre class=\"line before\"><span class=\"ws\">                </span>ctx.push()</pre>\n",
      "<pre class=\"line current\"><span class=\"ws\">                </span>response = self.full_dispatch_request()</pre>\n",
      "<pre class=\"line after\"><span class=\"ws\">            </span>except Exception as e:</pre>\n",
      "<pre class=\"line after\"><span class=\"ws\">                </span>error = e</pre>\n",
      "<pre class=\"line after\"><span class=\"ws\">                </span>response = self.handle_exception(e)</pre>\n",
      "<pre class=\"line after\"><span class=\"ws\">            </span>except:  # noqa: B001</pre>\n",
      "<pre class=\"line after\"><span class=\"ws\">                </span>error = sys.exc_info()[1]</pre></div>\n",
      "</div>\n",
      "\n",
      "<li><div class=\"frame\" id=\"frame-140153817764576\">\n",
      "  <h4>File <cite class=\"filename\">\"/home/padula/Projects/Home2021/venv/lib/python3.8/site-packages/flask/app.py\"</cite>,\n",
      "      line <em class=\"line\">1518</em>,\n",
      "      in <code class=\"function\">full_dispatch_request</code></h4>\n",
      "  <div class=\"source library\"><pre class=\"line before\"><span class=\"ws\">            </span>request_started.send(self)</pre>\n",
      "<pre class=\"line before\"><span class=\"ws\">            </span>rv = self.preprocess_request()</pre>\n",
      "<pre class=\"line before\"><span class=\"ws\">            </span>if rv is None:</pre>\n",
      "<pre class=\"line before\"><span class=\"ws\">                </span>rv = self.dispatch_request()</pre>\n",
      "<pre class=\"line before\"><span class=\"ws\">        </span>except Exception as e:</pre>\n",
      "<pre class=\"line current\"><span class=\"ws\">            </span>rv = self.handle_user_exception(e)</pre>\n",
      "<pre class=\"line after\"><span class=\"ws\">        </span>return self.finalize_request(rv)</pre>\n",
      "<pre class=\"line after\"><span class=\"ws\"></span> </pre>\n",
      "<pre class=\"line after\"><span class=\"ws\">    </span>def finalize_request(</pre>\n",
      "<pre class=\"line after\"><span class=\"ws\">        </span>self,</pre>\n",
      "<pre class=\"line after\"><span class=\"ws\">        </span>rv: t.Union[ResponseReturnValue, HTTPException],</pre></div>\n",
      "</div>\n",
      "\n",
      "<li><div class=\"frame\" id=\"frame-140153817765152\">\n",
      "  <h4>File <cite class=\"filename\">\"/home/padula/Projects/Home2021/venv/lib/python3.8/site-packages/flask/app.py\"</cite>,\n",
      "      line <em class=\"line\">1516</em>,\n",
      "      in <code class=\"function\">full_dispatch_request</code></h4>\n",
      "  <div class=\"source library\"><pre class=\"line before\"><span class=\"ws\">        </span>self.try_trigger_before_first_request_functions()</pre>\n",
      "<pre class=\"line before\"><span class=\"ws\">        </span>try:</pre>\n",
      "<pre class=\"line before\"><span class=\"ws\">            </span>request_started.send(self)</pre>\n",
      "<pre class=\"line before\"><span class=\"ws\">            </span>rv = self.preprocess_request()</pre>\n",
      "<pre class=\"line before\"><span class=\"ws\">            </span>if rv is None:</pre>\n",
      "<pre class=\"line current\"><span class=\"ws\">                </span>rv = self.dispatch_request()</pre>\n",
      "<pre class=\"line after\"><span class=\"ws\">        </span>except Exception as e:</pre>\n",
      "<pre class=\"line after\"><span class=\"ws\">            </span>rv = self.handle_user_exception(e)</pre>\n",
      "<pre class=\"line after\"><span class=\"ws\">        </span>return self.finalize_request(rv)</pre>\n",
      "<pre class=\"line after\"><span class=\"ws\"></span> </pre>\n",
      "<pre class=\"line after\"><span class=\"ws\">    </span>def finalize_request(</pre></div>\n",
      "</div>\n",
      "\n",
      "<li><div class=\"frame\" id=\"frame-140153817764144\">\n",
      "  <h4>File <cite class=\"filename\">\"/home/padula/Projects/Home2021/venv/lib/python3.8/site-packages/flask/app.py\"</cite>,\n",
      "      line <em class=\"line\">1502</em>,\n",
      "      in <code class=\"function\">dispatch_request</code></h4>\n",
      "  <div class=\"source library\"><pre class=\"line before\"><span class=\"ws\">            </span>getattr(rule, &quot;provide_automatic_options&quot;, False)</pre>\n",
      "<pre class=\"line before\"><span class=\"ws\">            </span>and req.method == &quot;OPTIONS&quot;</pre>\n",
      "<pre class=\"line before\"><span class=\"ws\">        </span>):</pre>\n",
      "<pre class=\"line before\"><span class=\"ws\">            </span>return self.make_default_options_response()</pre>\n",
      "<pre class=\"line before\"><span class=\"ws\">        </span># otherwise dispatch to the handler for that endpoint</pre>\n",
      "<pre class=\"line current\"><span class=\"ws\">        </span>return self.ensure_sync(self.view_functions[rule.endpoint])(**req.view_args)</pre>\n",
      "<pre class=\"line after\"><span class=\"ws\"></span> </pre>\n",
      "<pre class=\"line after\"><span class=\"ws\">    </span>def full_dispatch_request(self) -&gt; Response:</pre>\n",
      "<pre class=\"line after\"><span class=\"ws\">        </span>&quot;&quot;&quot;Dispatches the request and on top of that performs request</pre>\n",
      "<pre class=\"line after\"><span class=\"ws\">        </span>pre and postprocessing as well as HTTP exception catching and</pre>\n",
      "<pre class=\"line after\"><span class=\"ws\">        </span>error handling.</pre></div>\n",
      "</div>\n",
      "\n",
      "<li><div class=\"frame\" id=\"frame-140153817765392\">\n",
      "  <h4>File <cite class=\"filename\">\"/home/padula/Projects/Home2021/inference_server.py\"</cite>,\n",
      "      line <em class=\"line\">11</em>,\n",
      "      in <code class=\"function\">add_country</code></h4>\n",
      "  <div class=\"source \"><pre class=\"line before\"><span class=\"ws\"></span> </pre>\n",
      "<pre class=\"line before\"><span class=\"ws\"></span>@app.post(&quot;/detect_objs&quot;)</pre>\n",
      "<pre class=\"line before\"><span class=\"ws\"></span>def add_country():</pre>\n",
      "<pre class=\"line before\"><span class=\"ws\">    </span>if request.is_json:</pre>\n",
      "<pre class=\"line before\"><span class=\"ws\">        </span>detection_request = request.get_json()</pre>\n",
      "<pre class=\"line current\"><span class=\"ws\">        </span>b64img = detection_request[&quot;img&quot;]</pre>\n",
      "<pre class=\"line after\"><span class=\"ws\">        </span>img = np.frombuffer(base64.decodebytes(b64img), dtype=np.float64)</pre>\n",
      "<pre class=\"line after\"><span class=\"ws\">        </span>ret_msg = f&#x27;{img.shape}&#x27;</pre>\n",
      "<pre class=\"line after\"><span class=\"ws\">        </span>return ret_msg, 201</pre>\n",
      "<pre class=\"line after\"><span class=\"ws\">    </span>return {&quot;error&quot;: &quot;Request must be JSON&quot;}, 415</pre></div>\n",
      "</div>\n",
      "</ul>\n",
      "  <blockquote>KeyError: &#x27;img&#x27;</blockquote>\n",
      "</div>\n",
      "\n",
      "<div class=\"plain\">\n",
      "    <p>\n",
      "      This is the Copy/Paste friendly version of the traceback.\n",
      "    </p>\n",
      "    <textarea cols=\"50\" rows=\"10\" name=\"code\" readonly>Traceback (most recent call last):\n",
      "  File &quot;/home/padula/Projects/Home2021/venv/lib/python3.8/site-packages/flask/app.py&quot;, line 2091, in __call__\n",
      "    return self.wsgi_app(environ, start_response)\n",
      "  File &quot;/home/padula/Projects/Home2021/venv/lib/python3.8/site-packages/flask/app.py&quot;, line 2076, in wsgi_app\n",
      "    response = self.handle_exception(e)\n",
      "  File &quot;/home/padula/Projects/Home2021/venv/lib/python3.8/site-packages/flask/app.py&quot;, line 2073, in wsgi_app\n",
      "    response = self.full_dispatch_request()\n",
      "  File &quot;/home/padula/Projects/Home2021/venv/lib/python3.8/site-packages/flask/app.py&quot;, line 1518, in full_dispatch_request\n",
      "    rv = self.handle_user_exception(e)\n",
      "  File &quot;/home/padula/Projects/Home2021/venv/lib/python3.8/site-packages/flask/app.py&quot;, line 1516, in full_dispatch_request\n",
      "    rv = self.dispatch_request()\n",
      "  File &quot;/home/padula/Projects/Home2021/venv/lib/python3.8/site-packages/flask/app.py&quot;, line 1502, in dispatch_request\n",
      "    return self.ensure_sync(self.view_functions[rule.endpoint])(**req.view_args)\n",
      "  File &quot;/home/padula/Projects/Home2021/inference_server.py&quot;, line 11, in add_country\n",
      "    b64img = detection_request[&quot;img&quot;]\n",
      "KeyError: &#x27;img&#x27;</textarea>\n",
      "</div>\n",
      "<div class=\"explanation\">\n",
      "  The debugger caught an exception in your WSGI application.  You can now\n",
      "  look at the traceback which led to the error.  <span class=\"nojavascript\">\n",
      "  If you enable JavaScript you can also use additional features such as code\n",
      "  execution (if the evalex feature is enabled), automatic pasting of the\n",
      "  exceptions and much more.</span>\n",
      "</div>\n",
      "      <div class=\"footer\">\n",
      "        Brought to you by <strong class=\"arthur\">DON'T PANIC</strong>, your\n",
      "        friendly Werkzeug powered traceback interpreter.\n",
      "      </div>\n",
      "    </div>\n",
      "\n",
      "    <div class=\"pin-prompt\">\n",
      "      <div class=\"inner\">\n",
      "        <h3>Console Locked</h3>\n",
      "        <p>\n",
      "          The console is locked and needs to be unlocked by entering the PIN.\n",
      "          You can find the PIN printed out on the standard output of your\n",
      "          shell that runs the server.\n",
      "        <form>\n",
      "          <p>PIN:\n",
      "            <input type=text name=pin size=14>\n",
      "            <input type=submit name=btn value=\"Confirm Pin\">\n",
      "        </form>\n",
      "      </div>\n",
      "    </div>\n",
      "  </body>\n",
      "</html>\n",
      "\n",
      "<!--\n",
      "\n",
      "Traceback (most recent call last):\n",
      "  File \"/home/padula/Projects/Home2021/venv/lib/python3.8/site-packages/flask/app.py\", line 2091, in __call__\n",
      "    return self.wsgi_app(environ, start_response)\n",
      "  File \"/home/padula/Projects/Home2021/venv/lib/python3.8/site-packages/flask/app.py\", line 2076, in wsgi_app\n",
      "    response = self.handle_exception(e)\n",
      "  File \"/home/padula/Projects/Home2021/venv/lib/python3.8/site-packages/flask/app.py\", line 2073, in wsgi_app\n",
      "    response = self.full_dispatch_request()\n",
      "  File \"/home/padula/Projects/Home2021/venv/lib/python3.8/site-packages/flask/app.py\", line 1518, in full_dispatch_request\n",
      "    rv = self.handle_user_exception(e)\n",
      "  File \"/home/padula/Projects/Home2021/venv/lib/python3.8/site-packages/flask/app.py\", line 1516, in full_dispatch_request\n",
      "    rv = self.dispatch_request()\n",
      "  File \"/home/padula/Projects/Home2021/venv/lib/python3.8/site-packages/flask/app.py\", line 1502, in dispatch_request\n",
      "    return self.ensure_sync(self.view_functions[rule.endpoint])(**req.view_args)\n",
      "  File \"/home/padula/Projects/Home2021/inference_server.py\", line 11, in add_country\n",
      "    b64img = detection_request[\"img\"]\n",
      "KeyError: 'img'\n",
      "\n",
      "-->\n",
      "\n"
     ]
    }
   ],
   "source": [
    "import requests\n",
    "\n",
    "# url = 'http://127.0.0.1:5000/countries'\n",
    "# url = 'http://0.0.0.0:5000/countries'\n",
    "# url = 'http://172.17.0.1:5000/countries'\n",
    "url = 'http://172.19.0.1:5000/countries'\n",
    "myobj = {\"name\":\"Germany\", \"capital\": \"Berlin\", \"area\": 357022}\n",
    "\n",
    "x = requests.post(url, json= myobj)\n",
    "\n",
    "print(x.text)\n"
   ]
  },
  {
   "cell_type": "code",
   "execution_count": 7,
   "metadata": {},
   "outputs": [
    {
     "data": {
      "text/plain": [
       "(480, 640, 3)"
      ]
     },
     "execution_count": 7,
     "metadata": {},
     "output_type": "execute_result"
    }
   ],
   "source": [
    "image_data.shape"
   ]
  },
  {
   "cell_type": "code",
   "execution_count": 21,
   "metadata": {},
   "outputs": [
    {
     "data": {
      "text/plain": [
       "(921600,)"
      ]
     },
     "execution_count": 21,
     "metadata": {},
     "output_type": "execute_result"
    }
   ],
   "source": [
    "image_data.ravel().shape"
   ]
  },
  {
   "cell_type": "code",
   "execution_count": 40,
   "metadata": {},
   "outputs": [],
   "source": [
    "url = 'http://172.19.0.1:5000/detect_objs'\n",
    "myobj = {\n",
    "    \"img\":str(base64.b64encode(image_data.ravel(), 'utf-8')),\n",
    "    \"h\": image_data.shape[0],\n",
    "    \"w\": image_data.shape[1],    \n",
    "    \"c\": image_data.shape[2]\n",
    "}\n",
    "\n",
    "results = requests.post(url, json= myobj)\n",
    "\n",
    "# print(x.text)"
   ]
  },
  {
   "cell_type": "code",
   "execution_count": 44,
   "metadata": {},
   "outputs": [
    {
     "name": "stdout",
     "output_type": "stream",
     "text": [
      "(-0.13041593, 0.24348038, 0.62060374)\n"
     ]
    }
   ],
   "source": [
    "import base64\n",
    "import ast\n",
    "import tf\n",
    "\n",
    "def request_classification(img):\n",
    "    url = 'http://172.19.0.1:5000/detect_objs'\n",
    "    myobj = {\n",
    "        \"img\":str(base64.b64encode(img.ravel(), 'utf-8')),\n",
    "        \"h\": img.shape[0],\n",
    "        \"w\": img.shape[1],    \n",
    "        \"c\": img.shape[2]\n",
    "    }\n",
    "    return ast.literal_eval(requests.post(url, json= myobj).text)\n",
    "\n",
    "def imgcoords2world(x, y, rgbd_obj):\n",
    "    img = rgbd_obj.get_image()\n",
    "    points_data = rgbd_obj._points_data\n",
    "    xw = points_data['x'][y, x]\n",
    "    yw = points_data['y'][y, x]\n",
    "    zw = points_data['z'][y, x]\n",
    "    return (xw, yw, zw)\n",
    "\n",
    "def get_centroid(top_left, bottom_right):\n",
    "    c_x = top_left[0] + (bottom_right[0] - top_left[0])/2\n",
    "    c_y = top_left[1] + (bottom_right[1] - top_left[1])/2\n",
    "    return (int(c_x), int(c_y))\n",
    "\n",
    "result = request_classification(rgbd.get_image())\n",
    "obj = result[\"apple\"][0]\n",
    "obj_img_center = get_centroid((obj[0], obj[1]), (obj[2], obj[3]))\n",
    "x, y, z = imgcoords2world(obj_img_center[0], obj_img_center[1], rgbd)\n",
    "print(x, y, z)\n",
    "# br = tf.TransformBroadcaster()\n",
    "\n",
    "# for prediction, obj_name in zip(result[\"predictions\"], result[\"object_names\"]):\n",
    "#     print(obj_name)"
   ]
  },
  {
   "cell_type": "code",
   "execution_count": 41,
   "metadata": {},
   "outputs": [],
   "source": [
    "br = tf.TransformBroadcaster()\n",
    "br.sendTransform(\n",
    "            (x, y, z), tf.transformations.quaternion_from_euler(0, 0, 0),\n",
    "            rospy.Time.now(),\n",
    "            \"objeto\",\n",
    "            \"head_rgbd_sensor_rgb_frame\")"
   ]
  },
  {
   "cell_type": "code",
   "execution_count": 47,
   "metadata": {},
   "outputs": [],
   "source": [
    "objt = ObjectTracker()\n",
    "objt.set_obj_coords(x, y, z)"
   ]
  },
  {
   "cell_type": "code",
   "execution_count": 46,
   "metadata": {},
   "outputs": [],
   "source": [
    "class ObjectTracker():\n",
    "    def __init__(self):\n",
    "        self._br = tf.TransformBroadcaster()\n",
    "        # ポイントクラウドのサブスクライバのコールバックに_cloud_cbメソッドを登録\n",
    "        self._cloud_sub = rospy.Subscriber(\n",
    "            \"/hsrb/head_rgbd_sensor/depth_registered/rectified_points\",\n",
    "            PointCloud2, self._cloud_cb)\n",
    "        self._frame_name = \"objeto\"\n",
    "        self.x = 0\n",
    "        self.y = 0\n",
    "        self.z = 0\n",
    "        \n",
    "    def set_obj_coords(self, x, y, z):\n",
    "        self.x = x\n",
    "        self.y = y\n",
    "        self.z = z\n",
    "\n",
    "    def _cloud_cb(self, msg):\n",
    "        self._points_data = ros_numpy.numpify(msg)            \n",
    "\n",
    "        self._br.sendTransform(\n",
    "            (x, y, z), tf.transformations.quaternion_from_euler(0, 0, 0),\n",
    "            rospy.Time(msg.header.stamp.secs, msg.header.stamp.nsecs),\n",
    "            self._frame_name,\n",
    "            msg.header.frame_id)"
   ]
  },
  {
   "cell_type": "markdown",
   "metadata": {},
   "source": [
    "### Setando HUE dos objetos"
   ]
  },
  {
   "cell_type": "code",
   "execution_count": 6,
   "metadata": {},
   "outputs": [
    {
     "data": {
      "text/plain": [
       "<matplotlib.image.AxesImage at 0x7f512f4e12d0>"
      ]
     },
     "execution_count": 6,
     "metadata": {},
     "output_type": "execute_result"
    },
    {
     "data": {
      "image/png": "[encoded data removed]",
      "text/plain": [
       "<Figure size 432x288 with 1 Axes>"
      ]
     },
     "metadata": {
      "needs_background": "light"
     },
     "output_type": "display_data"
    }
   ],
   "source": [
    "# Get image data\n",
    "image_data = rgbd.get_image()\n",
    "# Display the image data\n",
    "plt.imshow(image_data)\n"
   ]
  },
  {
   "cell_type": "code",
   "execution_count": 7,
   "metadata": {},
   "outputs": [
    {
     "data": {
      "text/plain": [
       "<matplotlib.image.AxesImage at 0x7f94da192390>"
      ]
     },
     "execution_count": 7,
     "metadata": {},
     "output_type": "execute_result"
    },
    {
     "data": {
      "image/png": "[encoded data removed]",
      "text/plain": [
       "<Figure size 432x288 with 1 Axes>"
      ]
     },
     "metadata": {
      "needs_background": "light"
     },
     "output_type": "display_data"
    }
   ],
   "source": [
    "h_image = rgbd.get_h_image()\n",
    "# Display the hue channel\n",
    "plt.imshow(h_image)"
   ]
  },
  {
   "cell_type": "code",
   "execution_count": 8,
   "metadata": {},
   "outputs": [
    {
     "data": {
      "application/vnd.jupyter.widget-view+json": {
       "model_id": "4c559868da5c4f1b8fdd5dab8e9e0427",
       "version_major": 2,
       "version_minor": 0
      },
      "text/plain": [
       "aW50ZXJhY3RpdmUoY2hpbGRyZW49KEludFNsaWRlcih2YWx1ZT0wLCBkZXNjcmlwdGlvbj11J2xvd2VyJywgbWF4PTI1NSwgc3RlcD01KSwgSW50U2xpZGVyKHZhbHVlPTI1NSwgZGVzY3JpcHTigKY=\n"
      ]
     },
     "metadata": {},
     "output_type": "display_data"
    },
    {
     "data": {
      "text/plain": [
       "<function __main__.f>"
      ]
     },
     "execution_count": 8,
     "metadata": {},
     "output_type": "execute_result"
    }
   ],
   "source": [
    "from ipywidgets import interact\n",
    "\n",
    "def f(lower = 0, upper = 255):\n",
    "    yellow_region = (h_image > lower) & (h_image < upper)\n",
    "    plt.imshow(yellow_region)\n",
    "\n",
    "\n",
    "interact(f, lower=(0, 255, 5), upper=(0, 255, 5))"
   ]
  },
  {
   "cell_type": "markdown",
   "metadata": {},
   "source": [
    "### Navegação"
   ]
  },
  {
   "cell_type": "code",
   "execution_count": 66,
   "metadata": {},
   "outputs": [],
   "source": [
    "move_to_location('prateleira')"
   ]
  },
  {
   "cell_type": "markdown",
   "metadata": {},
   "source": [
    "### Pegando posição do objeto"
   ]
  },
  {
   "cell_type": "code",
   "execution_count": 44,
   "metadata": {},
   "outputs": [
    {
     "data": {
      "text/plain": [
       "True"
      ]
     },
     "execution_count": 44,
     "metadata": {},
     "output_type": "execute_result"
    }
   ],
   "source": [
    "move_head_tilt(-0.3)"
   ]
  },
  {
   "cell_type": "code",
   "execution_count": 9,
   "metadata": {},
   "outputs": [
    {
     "data": {
      "text/plain": [
       "<matplotlib.image.AxesImage at 0x7f9508ea9bd0>"
      ]
     },
     "execution_count": 9,
     "metadata": {},
     "output_type": "execute_result"
    },
    {
     "data": {
      "image/png": "[encoded data removed]",
      "text/plain": [
       "<Figure size 432x288 with 1 Axes>"
      ]
     },
     "metadata": {
      "needs_background": "light"
     },
     "output_type": "display_data"
    }
   ],
   "source": [
    "# image_data = rgbd.get_image()\n",
    "rgbd.set_h(245, 255)\n",
    "region = rgbd.get_region()\n",
    "plt.imshow(region)"
   ]
  },
  {
   "cell_type": "code",
   "execution_count": 10,
   "metadata": {},
   "outputs": [
    {
     "data": {
      "text/plain": [
       "[0.2797775, 0.0152991535, 0.5586361]"
      ]
     },
     "execution_count": 10,
     "metadata": {},
     "output_type": "execute_result"
    }
   ],
   "source": [
    "rgbd.get_xyz()"
   ]
  },
  {
   "cell_type": "code",
   "execution_count": 68,
   "metadata": {},
   "outputs": [],
   "source": [
    "rgbd.set_coordinate_name(\"objeto\")"
   ]
  },
  {
   "cell_type": "code",
   "execution_count": 28,
   "metadata": {},
   "outputs": [
    {
     "data": {
      "text/plain": [
       "(2.4832446488334368, 4.61049961557407, 0.7999918846499854)"
      ]
     },
     "execution_count": 28,
     "metadata": {},
     "output_type": "execute_result"
    }
   ],
   "source": [
    "trans = get_relative_coordinate(\"odom\", \"objeto\")\n",
    "x = trans.translation.x\n",
    "y = trans.translation.y\n",
    "z = trans.translation.z\n",
    "x, y, z"
   ]
  },
  {
   "cell_type": "code",
   "execution_count": 71,
   "metadata": {},
   "outputs": [
    {
     "data": {
      "text/plain": [
       "True"
      ]
     },
     "execution_count": 71,
     "metadata": {},
     "output_type": "execute_result"
    }
   ],
   "source": [
    "# ハンドを開く Open the hand\n",
    "move_hand(1)\n",
    "# Move the end effector by using inverse kinematics\n",
    "move_wholebody_ik(x, y, z, 0, 90, 180)\n",
    "# Close the hand\n",
    "move_hand(0)\n",
    "# Move the hand to the initial position\n",
    "move_arm_init()"
   ]
  },
  {
   "cell_type": "code",
   "execution_count": 74,
   "metadata": {},
   "outputs": [],
   "source": [
    "move_to_location('start')\n",
    "move_to_location('delivery_area')"
   ]
  },
  {
   "cell_type": "markdown",
   "metadata": {},
   "source": [
    "### Testes"
   ]
  },
  {
   "cell_type": "code",
   "execution_count": 38,
   "metadata": {},
   "outputs": [],
   "source": [
    "move_head_tilt(0)\n",
    "move_arm_init()\n",
    "move_to_location('start')"
   ]
  },
  {
   "cell_type": "code",
   "execution_count": 29,
   "metadata": {
    "scrolled": true
   },
   "outputs": [
    {
     "data": {
      "text/plain": [
       "header: \n",
       "  seq: 0\n",
       "  stamp: \n",
       "    secs: 1127\n",
       "    nsecs: 538000000\n",
       "  frame_id: \"odom\"\n",
       "pose: \n",
       "  position: \n",
       "    x: 2.45518370622\n",
       "    y: 4.09415353343\n",
       "    z: 0.672716126847\n",
       "  orientation: \n",
       "    x: -0.706684474259\n",
       "    y: -0.0406328588062\n",
       "    z: -0.705215484296\n",
       "    w: 0.0402137456099"
      ]
     },
     "execution_count": 29,
     "metadata": {},
     "output_type": "execute_result"
    }
   ],
   "source": [
    "# whole_body.get_current_rpy()\n",
    "# arm.get_current_pose()\n",
    "pose = whole_body.get_current_pose()\n",
    "pos = pose.pose.position\n",
    "pose"
   ]
  },
  {
   "cell_type": "code",
   "execution_count": 37,
   "metadata": {},
   "outputs": [
    {
     "data": {
      "text/plain": [
       "True"
      ]
     },
     "execution_count": 37,
     "metadata": {},
     "output_type": "execute_result"
    }
   ],
   "source": [
    "move_wholebody_ik(pos.x, pos.y, pos.z, -90, 0, -90)"
   ]
  },
  {
   "cell_type": "code",
   "execution_count": 7,
   "metadata": {},
   "outputs": [
    {
     "data": {
      "text/plain": [
       "[3.1320139734731267,\n",
       " 0.7705636979890608,\n",
       " -2.3736689781201377,\n",
       " 3.607505545432198e-05,\n",
       " 0.00013831850127754564,\n",
       " 0.0004217055111053192,\n",
       " -0.00018528658030536604,\n",
       " -0.00019178729022062413,\n",
       " 0.0]"
      ]
     },
     "execution_count": 7,
     "metadata": {},
     "output_type": "execute_result"
    }
   ],
   "source": [
    "joint_values = whole_body.get_current_joint_values()\n",
    "joint_values"
   ]
  },
  {
   "cell_type": "code",
   "execution_count": 22,
   "metadata": {},
   "outputs": [
    {
     "data": {
      "text/plain": [
       "True"
      ]
     },
     "execution_count": 22,
     "metadata": {},
     "output_type": "execute_result"
    }
   ],
   "source": [
    "move_arm_init()"
   ]
  },
  {
   "cell_type": "code",
   "execution_count": 6,
   "metadata": {},
   "outputs": [
    {
     "data": {
      "text/plain": [
       "['odom_y',\n",
       " 'odom_x',\n",
       " 'odom_r',\n",
       " 'arm_lift_joint',\n",
       " 'arm_flex_joint',\n",
       " 'arm_roll_joint',\n",
       " 'wrist_flex_joint',\n",
       " 'wrist_roll_joint',\n",
       " 'wrist_ft_sensor_frame_joint',\n",
       " 'wrist_ft_sensor_frame_inverse_joint',\n",
       " 'hand_palm_joint']"
      ]
     },
     "execution_count": 6,
     "metadata": {},
     "output_type": "execute_result"
    }
   ],
   "source": [
    "whole_body.get_joints()"
   ]
  },
  {
   "cell_type": "code",
   "execution_count": 43,
   "metadata": {},
   "outputs": [
    {
     "name": "stdout",
     "output_type": "stream",
     "text": [
      "[3.7219761220726477, 2.0456524997601186, 1.4794386832607234, -3.464515404142817e-05, -0.00022491005980818102, -1.5698164986313023, -1.5727427343192266, 0.0005210872367431563, 0.0]\n",
      "[3.722831976001183, 2.047137841494697, 1.4640208433009045, 0.0481771593350463, -0.00016456677350262794, -1.5688090036251725, -1.5759860346438987, -0.0005850498517405711, 0.0]\n",
      "[3.7235772694858498, 2.046347426175722, 1.478433102530344, 0.10037399205434902, -0.00029396880446164175, -1.5683552751755268, -1.5789836969300186, -0.0006038587843990584, 0.0]\n"
     ]
    },
    {
     "data": {
      "text/plain": [
       "True"
      ]
     },
     "execution_count": 43,
     "metadata": {},
     "output_type": "execute_result"
    }
   ],
   "source": [
    "move_arm_init()\n",
    "move_to_location('prateleira')\n",
    "for jointv in [0.05, 0.1, 0.15]:    \n",
    "    joint_values = whole_body.get_current_joint_values()\n",
    "    print(joint_values)\n",
    "    joint_values[3] = jointv\n",
    "    whole_body.set_joint_value_target(joint_values)\n",
    "    whole_body.go(wait = True)\n",
    "    result = request_classification(rgbd.get_image())\n",
    "move_arm_init()"
   ]
  },
  {
   "cell_type": "code",
   "execution_count": 2,
   "metadata": {},
   "outputs": [],
   "source": [
    "move_to_location('prateleira')"
   ]
  },
  {
   "cell_type": "code",
   "execution_count": 6,
   "metadata": {},
   "outputs": [
    {
     "data": {
      "text/plain": [
       "True"
      ]
     },
     "execution_count": 6,
     "metadata": {},
     "output_type": "execute_result"
    }
   ],
   "source": [
    "wp_estante_cima = [2.05, 4.3, 0.92]\n",
    "wp_estante_baixo = [2.05, 4.3, 0.75]\n",
    "# wp_estante_baixo = [1.95, 4.1, 0.75]\n",
    "wp_A = wp_estante_cima\n",
    "move_wholebody_ik(wp_A[0], wp_A[1], wp_A[2], -90, 0, -90)"
   ]
  },
  {
   "cell_type": "markdown",
   "metadata": {},
   "source": [
    "### Execução prova"
   ]
  },
  {
   "cell_type": "code",
   "execution_count": null,
   "metadata": {},
   "outputs": [
    {
     "name": "stdout",
     "output_type": "stream",
     "text": [
      "Pegando objeto: mustard_bottle\n",
      "Usando waypoint cima!\n",
      "Pegando objeto: apple\n",
      "Usando waypoint baixo!\n"
     ]
    }
   ],
   "source": [
    "wp_estante_cima = [1.90, 4.3, 0.92]\n",
    "wp_estante_baixo = [1.90, 4.3, 0.62]\n",
    "objetos = [\n",
    "    \"mustard_bottle\",\n",
    "    \"apple\"        \n",
    "]\n",
    "pessoas = [\n",
    "    \"pessoa_esquerda\",\n",
    "    \"pessoa_direita\"\n",
    "]\n",
    "whole_body.set_workspace([-1.0, 1.0, -0.3, 0.3])\n",
    "# tilt_angles = [-0.35, -0.4, -0.45]\n",
    "tilt_angles = [-0.4]\n",
    "for objeto, pessoa in zip(objetos, pessoas):\n",
    "    print(\"Pegando objeto: %s\" % (objeto))\n",
    "    move_to_location('prateleira')\n",
    "    xs, ys, zs = [], [], []\n",
    "    for angle in tilt_angles:\n",
    "        move_head_tilt(angle)\n",
    "        result = request_classification(rgbd.get_image())\n",
    "        if objeto in result:\n",
    "            obj = result[objeto][0]\n",
    "            obj_img_center = get_centroid((obj[0], obj[1]), (obj[2], obj[3]))\n",
    "            x, y, z = imgcoords2world(obj_img_center[0], obj_img_center[1], rgbd)\n",
    "            xs.append(x)\n",
    "            ys.append(y)\n",
    "            zs.append(z)\n",
    "    if len(xs) == 0:\n",
    "        continue\n",
    "    x = np.mean(xs)\n",
    "    y = np.mean(ys)\n",
    "    z = np.mean(zs)\n",
    "    \n",
    "    objt = ObjectTracker()\n",
    "    objt.set_obj_coords(x, y, z)\n",
    "\n",
    "    trans = get_relative_coordinate(\"odom\", \"objeto\")\n",
    "#     trans = get_relative_coordinate(\"map\", \"objeto\")\n",
    "    x = trans.translation.x\n",
    "    y = trans.translation.y\n",
    "    z = trans.translation.z\n",
    "\n",
    "    target = np.array([x, y, z])\n",
    "    if z > 0.7:\n",
    "        print(\"Usando waypoint cima!\")\n",
    "        starting_wp = wp_estante_cima\n",
    "    else:\n",
    "        print(\"Usando waypoint baixo!\")\n",
    "        starting_wp = wp_estante_baixo\n",
    "    wp1 = target + np.array([0, -0.1, 0.15])\n",
    "    wp2 = target + np.array([0, 0, 0.15])\n",
    "    wp3 = target + np.array([0, -0.1, 0.15])\n",
    "\n",
    "    move_wholebody_ik(starting_wp[0], starting_wp[1], starting_wp[2], -90, 0, -90)\n",
    "    move_hand(1)\n",
    "    move_wholebody_ik(wp1[0], wp1[1], wp1[2], -90, 0, -90)\n",
    "    move_wholebody_ik(x, y, z, -90, 0, -90)\n",
    "    move_hand(0)\n",
    "    move_wholebody_ik(wp2[0], wp2[1], wp2[2], -90, 0, -90)\n",
    "    move_wholebody_ik(wp3[0], wp3[1], wp3[2], -90, 0, -90)\n",
    "    move_wholebody_ik(starting_wp[0], starting_wp[1], starting_wp[2], -90, 0, -90)\n",
    "    \n",
    "    move_arm_init()\n",
    "    move_to_location(pessoa)\n",
    "    move_arm_neutral()\n",
    "    move_hand(1)\n",
    "    move_hand(0)\n",
    "    move_arm_init()"
   ]
  }
 ],
 "metadata": {
  "kernelspec": {
   "display_name": "Python 2",
   "language": "python",
   "name": "python2"
  },
  "language_info": {
   "codemirror_mode": {
    "name": "ipython",
    "version": 2
   },
   "file_extension": ".py",
   "mimetype": "text/x-python",
   "name": "python",
   "nbconvert_exporter": "python",
   "pygments_lexer": "ipython2",
   "version": "2.7.17"
  },
  "nbTranslate": {
   "displayLangs": [
    "*"
   ],
   "hotkey": "alt-t",
   "langInMainMenu": true,
   "sourceLang": "en",
   "targetLang": "fr",
   "useGoogleTranslate": true
  },
  "toc": {
   "base_numbering": 1,
   "nav_menu": {},
   "number_sections": true,
   "sideBar": true,
   "skip_h1_title": false,
   "title_cell": "Table of Contents",
   "title_sidebar": "Contents",
   "toc_cell": false,
   "toc_position": {},
   "toc_section_display": true,
   "toc_window_display": false
  }
 },
 "nbformat": 4,
 "nbformat_minor": 2
}
